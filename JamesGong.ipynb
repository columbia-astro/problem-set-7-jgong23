{
 "cells": [
  {
   "cell_type": "markdown",
   "metadata": {},
   "source": [
    "# Problem Set 7\n",
    "** James Gong (jhg2141) **"
   ]
  },
  {
   "cell_type": "code",
   "execution_count": 1,
   "metadata": {
    "collapsed": true
   },
   "outputs": [],
   "source": [
    "import math\n",
    "import numpy as np\n",
    "import kplr\n",
    "from scipy import integrate\n",
    "import matplotlib.pyplot as plt\n",
    "\n",
    "# Find the target KOI.\n",
    "client = kplr.API()\n",
    "koi = client.koi(97.01)\n",
    "\n",
    "# Get a list of light curve datasets.\n",
    "lcs = koi.get_light_curves(short_cadence=False)\n",
    "\n",
    "# Open the first dataset and read it\n",
    "f = lcs[0].open()\n",
    "hdu_data = f[1].data\n",
    "f.close()"
   ]
  },
  {
   "cell_type": "markdown",
   "metadata": {},
   "source": [
    "Next, import my_transit helper function and define func1 and func2, which are the two functions to be integrated to compute the flux theory curve (which is the ratio of the integral(func1)/integral(func2))."
   ]
  },
  {
   "cell_type": "code",
   "execution_count": 2,
   "metadata": {
    "collapsed": true
   },
   "outputs": [],
   "source": [
    "import my_transit\n",
    "\n",
    "def I(r):\n",
    "    '''A Limb-darkening function'''\n",
    "    mu = (1 - (r**2))**(0.5)\n",
    "    return 1 - (1 - (mu**(0.5)))\n",
    "\n",
    "def func1(r, p, z):\n",
    "    return I(r) * (1 - my_transit.delta(p,r,abs(z))) * 2 * r\n",
    "\n",
    "def func2(r, p, z):\n",
    "    return I(r) * 2 * r"
   ]
  },
  {
   "cell_type": "markdown",
   "metadata": {},
   "source": [
    "# Problem 1"
   ]
  },
  {
   "cell_type": "code",
   "execution_count": 3,
   "metadata": {},
   "outputs": [],
   "source": [
    "time = hdu_data[\"time\"] # get the time of each observation\n",
    "flux = hdu_data[\"sap_flux\"] # get the flux\n",
    "flux_err = hdu_data[\"sap_flux_err\"] # get the error in the flux\n",
    "\n",
    "interval = np.where((time > 124) & (time < 125))\n",
    "time = time[interval]\n",
    "flux = flux[interval]\n",
    "flux_err = flux_err[interval]\n",
    "\n",
    "def two_sigma(flux):\n",
    "    for i in range(0, 5):\n",
    "        average = np.mean(flux)\n",
    "        stdev = np.std(flux)\n",
    "        exclude = np.where(np.abs(flux - average)/stdev > 2)\n",
    "        flux = np.delete(flux, exclude) # remove points more than 2-sigma away from mean\n",
    "    return np.mean(flux)\n",
    "\n",
    "mean = two_sigma(flux)\n",
    "flux = flux/mean\n",
    "flux_err = flux_err/mean"
   ]
  },
  {
   "cell_type": "code",
   "execution_count": 4,
   "metadata": {},
   "outputs": [
    {
     "name": "stdout",
     "output_type": "stream",
     "text": [
      "Chi2 value: 465.1986924205623\n"
     ]
    }
   ],
   "source": [
    "# Guess of parameters\n",
    "p = 0.0775\n",
    "tau = 0.1\n",
    "t_0 = 124.51\n",
    "\n",
    "def z_t(t, t_0, tau):\n",
    "    return (t - t_0) / tau\n",
    "\n",
    "def F_model(t, p, tau, t_0):\n",
    "    \"\"\" gets model f given a time stamp and a p\n",
    "    calculates z from p and integrates the provided func1 and func2\n",
    "    \"\"\"\n",
    "    z = z_t(t, t_0, tau)\n",
    "    F = integrate.quad(func1,0,1,args=(p,z))[0] / integrate.quad(func2,0,1,args=(p,z))[0]\n",
    "    F_err = integrate.quad(func1,0,1,args=(p,z))[1] / integrate.quad(func2,0,1,args=(p,z))[1]\n",
    "    return F\n",
    "\n",
    "F = np.array([F_model(t, p, tau, t_0) for t in time])\n",
    "              \n",
    "chi2 = np.sum(((flux - F) / flux_err) ** 2)\n",
    "\n",
    "print \"Chi2 value: \" + chi2.astype(str)"
   ]
  },
  {
   "cell_type": "markdown",
   "metadata": {},
   "source": [
    "# Problem 2"
   ]
  },
  {
   "cell_type": "code",
   "execution_count": 5,
   "metadata": {},
   "outputs": [
    {
     "data": {
      "image/png": "[encoded data removed]",
      "text/plain": [
       "<matplotlib.figure.Figure at 0x10a62d8d0>"
      ]
     },
     "metadata": {},
     "output_type": "display_data"
    }
   ],
   "source": [
    "# By eye\n",
    "plt.errorbar(time, flux, yerr=flux_err, label=\"data\")\n",
    "plt.errorbar(time, F, label=\"model\")\n",
    "plt.xlabel(\"time\")\n",
    "plt.ylabel(\"normalized flux\")\n",
    "plt.legend()\n",
    "plt.show()"
   ]
  },
  {
   "cell_type": "markdown",
   "metadata": {},
   "source": [
    "By eye, the fit looks good."
   ]
  },
  {
   "cell_type": "code",
   "execution_count": 6,
   "metadata": {},
   "outputs": [
    {
     "name": "stdout",
     "output_type": "stream",
     "text": [
      "1.098869070516888e-70\n"
     ]
    }
   ],
   "source": [
    "# By how likely chi2 value is\n",
    "from scipy import special \n",
    "N = len(flux)\n",
    "M = 3\n",
    "v = N - M # degrees of freedom\n",
    "print special.gammaincc(v/2, chi2/2) # p-value"
   ]
  },
  {
   "cell_type": "markdown",
   "metadata": {},
   "source": [
    "This very low p-value indicates that our model parameters are very unlikely."
   ]
  },
  {
   "cell_type": "markdown",
   "metadata": {},
   "source": [
    "# Problem 3"
   ]
  },
  {
   "cell_type": "code",
   "execution_count": 7,
   "metadata": {},
   "outputs": [
    {
     "name": "stdout",
     "output_type": "stream",
     "text": [
      "Best fit tau value: 0.09666666666666666\n"
     ]
    }
   ],
   "source": [
    "chi2_arr = []\n",
    "taus = np.linspace(0.08, 0.13, 100)\n",
    "for tau in taus:\n",
    "    F = np.array([F_model(t, p, tau, t_0) for t in time])\n",
    "    chi2 = np.sum(((flux - F) / flux_err) ** 2)\n",
    "    chi2_arr.append(chi2)\n",
    "\n",
    "best = np.argmin(chi2_arr)\n",
    "print \"Best fit tau value: \" + str(taus[best])"
   ]
  },
  {
   "cell_type": "code",
   "execution_count": 8,
   "metadata": {},
   "outputs": [
    {
     "data": {
      "image/png": "[encoded data removed]",
      "text/plain": [
       "<matplotlib.figure.Figure at 0x104f53050>"
      ]
     },
     "metadata": {},
     "output_type": "display_data"
    }
   ],
   "source": [
    "F = np.array([F_model(t, p, taus[best], t_0) for t in time])\n",
    "chi2 = np.sum(((flux - F) / flux_err) ** 2)\n",
    "\n",
    "plt.errorbar(time, flux, yerr=flux_err, label=\"data\")\n",
    "plt.errorbar(time, F, label=\"model\")\n",
    "plt.xlabel(\"time\")\n",
    "plt.ylabel(\"normalized flux\")\n",
    "plt.legend()\n",
    "plt.show()"
   ]
  },
  {
   "cell_type": "code",
   "execution_count": 9,
   "metadata": {},
   "outputs": [
    {
     "name": "stdout",
     "output_type": "stream",
     "text": [
      "P-value: 1.2251700286130319e-29\n"
     ]
    }
   ],
   "source": [
    "print \"P-value: \" + str(special.gammaincc(v/2, chi2/2))"
   ]
  },
  {
   "cell_type": "code",
   "execution_count": 10,
   "metadata": {},
   "outputs": [
    {
     "name": "stdout",
     "output_type": "stream",
     "text": [
      "Minimum chi2 value: 248.8250278195545\n"
     ]
    },
    {
     "data": {
      "image/png": "[encoded data removed]",
      "text/plain": [
       "<matplotlib.figure.Figure at 0x10f02ba10>"
      ]
     },
     "metadata": {},
     "output_type": "display_data"
    }
   ],
   "source": [
    "plt.scatter(taus, chi2_arr)\n",
    "plt.xlim([0.08, 0.13])\n",
    "print \"Minimum chi2 value: \" + str(chi2_arr[best])"
   ]
  },
  {
   "cell_type": "markdown",
   "metadata": {},
   "source": [
    "To determine the one-sigma uncertainty in this parameter, we plot the range of delta-chi around the minimum value of chi2 that corresponds to the 1-sigma uncertainty.\n",
    "\n",
    "Adding 1 gives a chi2 value of 249.8."
   ]
  },
  {
   "cell_type": "code",
   "execution_count": 11,
   "metadata": {},
   "outputs": [
    {
     "data": {
      "text/plain": [
       "<matplotlib.lines.Line2D at 0x10f022810>"
      ]
     },
     "execution_count": 11,
     "metadata": {},
     "output_type": "execute_result"
    },
    {
     "data": {
      "image/png": "[encoded data removed]",
      "text/plain": [
       "<matplotlib.figure.Figure at 0x10f0ed550>"
      ]
     },
     "metadata": {},
     "output_type": "display_data"
    }
   ],
   "source": [
    "plt.plot(taus, chi2_arr)\n",
    "plt.axis([0.0965, 0.097, 248, 251])\n",
    "plt.axvline(x=(0.09662), ls = '--')"
   ]
  },
  {
   "cell_type": "markdown",
   "metadata": {},
   "source": [
    "So, the corresponding tau value is approximately 0.09662. Thus, the uncertainty is 0.09666666666666666 - 0.09662 = 0.00004666666"
   ]
  },
  {
   "cell_type": "markdown",
   "metadata": {},
   "source": [
    "# Problem 4"
   ]
  },
  {
   "cell_type": "markdown",
   "metadata": {},
   "source": [
    "We can use the emcee package to find the best fit parameter set.\n",
    "Following the example in the emcee documentation, we create log-prior, log-likelihood, and log-probability functions."
   ]
  },
  {
   "cell_type": "code",
   "execution_count": 24,
   "metadata": {},
   "outputs": [],
   "source": [
    "def lnprior(theta):\n",
    "    p,tau,t0 = theta\n",
    "    \n",
    "    if p <= 0 or p >= 0.5: # p is the size ratio of the planet to the sttar\n",
    "        return -np.inf\n",
    "    elif tau <= 0 or tau >= 1: # tau must also be positive\n",
    "        return -np.inf\n",
    "    elif t0 <= 124 or t0 >= 125: # time must be within our time range\n",
    "        return -np.inf\n",
    "    return 0\n",
    "\n",
    "def lnlike(theta, x, y, yerr):\n",
    "    p, tau, t0 = theta\n",
    "    model = np.array([F_model(t, p, tau, t0) for t in x])\n",
    "    \n",
    "    return np.sum(((y - model) / yerr) ** 2) # for likelihood, we assume the chi-square\n",
    "\n",
    "def lnprob(theta, x, y, yerr):\n",
    "    prior = lnprior(theta)\n",
    "    if np.isfinite(prior):\n",
    "        return lnlike(theta, x, y, yerr)\n",
    "    else:\n",
    "        return prior"
   ]
  },
  {
   "cell_type": "code",
   "execution_count": 25,
   "metadata": {},
   "outputs": [
    {
     "data": {
      "text/plain": [
       "(array([[  0.49768325,   0.99211516, 124.00000011],\n",
       "        [  0.49722325,   0.99624109, 124.00000013],\n",
       "        [  0.49682285,   0.9998442 , 124.00000013],\n",
       "        [  0.49681076,   0.99989291, 124.00000015],\n",
       "        [  0.49694516,   0.9987496 , 124.00000013],\n",
       "        [  0.49695183,   0.99867308, 124.00000015]]),\n",
       " array([4.00162395e+08, 4.00223095e+08, 4.00268763e+08, 4.00249620e+08,\n",
       "        4.00258071e+08, 4.00251723e+08]),\n",
       " ('MT19937', array([2191658317, 3231220695,  200617164,  746476625, 3260368042,\n",
       "          427170445, 1054230495, 1762877700, 1113358592, 1833204747,\n",
       "         2630136709,  922866495, 1059015381, 2856463462,  685087159,\n",
       "         3797667858, 1354251137,  446039586, 1596206951, 4110368098,\n",
       "         1897098451, 4286598957,  111257641, 3585122968, 3065420199,\n",
       "         1276874445, 2582203336, 3079104751, 1114682842,  465667218,\n",
       "         2664321994, 3727502875, 4023122603, 1378039526,  536198810,\n",
       "         4185439629,  755498018,  140022885, 1930620023,  877586150,\n",
       "          206521986,  952739421, 3157914637, 3673855680, 2711807290,\n",
       "         3394180761, 2936673632,  259238090, 3504358000, 1541126407,\n",
       "          749128133, 2511305707, 2657689546, 2785030431,  828384305,\n",
       "         3235113528, 2870163299, 2493331036, 1097866122, 1710273359,\n",
       "         2311026217, 2603341617, 2570158939, 4284234101, 2064338086,\n",
       "         3322914879, 4204298934, 2454839306, 3185794756, 1786226671,\n",
       "         2096450760, 1153132357, 2775384727, 2314175070,   20223008,\n",
       "         3535768959, 1741721126, 2052359909, 2860534296,   46530062,\n",
       "         4250029571,  585251462,  900063357,  916490626, 3507987403,\n",
       "          602802804, 3199497864, 1778804159,  280666416, 1723711381,\n",
       "         2323037575, 2220948931, 1356225553, 2309593553, 4224758586,\n",
       "         3298877441, 2293625577, 1796912274, 3499775393, 2024801755,\n",
       "          744160954, 3301263220,  180227592, 1357334058, 2100401262,\n",
       "         1908715306,  797108355, 3087812689, 2047783958, 3509172318,\n",
       "         2201239249,  551904171, 1736758525, 2889690227,  526247111,\n",
       "          514993999, 2150300955,  136743376, 2039270097, 1172312845,\n",
       "         1254592698, 4157516953, 4284464991,  778443110, 2141458395,\n",
       "          110803603, 3644654418, 3841514337, 3045235043, 2399202321,\n",
       "         1629445724, 2804885679, 1957800809,  687239687, 3211831009,\n",
       "         1000207290, 1394800825, 2863546876, 4147995973, 3961936507,\n",
       "         2557004187, 3463074919, 1165556683,  631157417, 2484040593,\n",
       "         2940603823,  125013433, 3788514408,  500647380, 3159449635,\n",
       "         2713314738, 2343807000, 3741737461,  680098916, 3323784959,\n",
       "         4064506550, 3123811829, 3546008386, 4236315726,  728549161,\n",
       "         2813245681, 1621170861, 2489097357, 1615776226, 1571094461,\n",
       "         2703231546,  234400155, 3020461521, 2141289306, 1482589695,\n",
       "          554131738, 2265638593, 1321086310, 1244488876,  703813531,\n",
       "          147210929, 1868591596, 2694864212, 4259748705, 1537651320,\n",
       "         4014466462,  397935069, 1545655435, 2348206420, 2674878312,\n",
       "         1834362397, 1219031290,  621790810, 1692592021, 2974889072,\n",
       "           60184973, 1923006817, 2510421101, 3996955327,    9954647,\n",
       "         2904876835, 1849330038, 1869247496, 2372472144,  716378168,\n",
       "         2420848457, 1979615953, 2293491553, 3367323290,   51445511,\n",
       "         2525037340, 2394843785, 3588815453,  567084578,  288239135,\n",
       "         1651833390,  880917026, 1318506807, 3209888403,  131013456,\n",
       "         3272358294,  598328345,  228785709, 1535876110, 2422110967,\n",
       "         3736036070, 1836324971, 1912250435, 2496653125,  991162421,\n",
       "         3993663617,  994326362,  116667986, 3258734144,   10020296,\n",
       "         4105904660, 2529105983, 3122446429, 1711030263, 3051619757,\n",
       "         3291424593, 4010400393, 3628522396, 4091574019,  896898144,\n",
       "          612060955,  137558837,  303555631, 3282320834, 2087692543,\n",
       "         1440032106, 2013287089, 1975699651, 1040726958, 3969241662,\n",
       "         2580177405, 2317453580, 1728049830, 1857418917, 2814533957,\n",
       "          880135873,   10733017, 1148697179, 1459688638, 3616821132,\n",
       "         4205962932, 2296597046, 2373503287, 1545651406, 3280902184,\n",
       "          771859558,  234170998, 3715994077,  813363384, 3656340115,\n",
       "         2772675677, 1146711676,  765183294, 3164286195, 2698850977,\n",
       "         1360614663, 2035529661, 2947088970, 2479066575, 4238450703,\n",
       "         1951356671, 2003901010, 1580243181,  246622031,  435855242,\n",
       "         1712775447, 2371973562, 4242887826, 1052956651, 2528931498,\n",
       "         4043849074, 1153199858, 1749728162, 1467618826, 2645560647,\n",
       "         1963998197,  771109850,  116029790, 2987436370, 2214009029,\n",
       "         2670722258,  391615507,  862302002, 1337146455, 1710212150,\n",
       "          623361466,  629338208, 2325468513, 2694328140,  937163136,\n",
       "         1183833095, 1582184489, 3931518619, 3761683165, 3190248239,\n",
       "         3730919565, 3797337202, 2132046630, 2563884684, 3330190103,\n",
       "         3280017417, 3655005060,  486147023, 3208608892, 1906339331,\n",
       "         1847460156, 3312735094, 3270811846, 3643428866, 1923141590,\n",
       "          485236800,  275478436, 1210561221, 3996413842, 1625538331,\n",
       "         1530624780,  258743769, 3511518015, 2581295880, 1273138720,\n",
       "          844164632, 1665539000,  892271787, 1554231287, 1769563962,\n",
       "          497024103, 3894114697, 2928837131, 1266745490, 1445782911,\n",
       "         1260765499,  220923441,  165843663, 3547459001, 3491383387,\n",
       "         3889770945,  948220374, 2995776643, 2601361906, 3045773982,\n",
       "         1264774461,  607160542,  783910280, 4032159111, 1641876898,\n",
       "          902563969, 3123142067, 1682914592,  415207568,  814606774,\n",
       "         2853903893, 1453418686,  444170198, 3862970165, 2573718966,\n",
       "         3880295501, 3566548207, 3046264309, 3364549880, 3184223519,\n",
       "         2289981108, 2416729664, 4028891498,  155392002, 2437332650,\n",
       "         3810248783, 1818395462, 3291460380,  439910492, 3619012556,\n",
       "         3116732348, 1640880681, 1682915212,  851612772, 3393072304,\n",
       "         2513071107, 2071242984, 2664751196, 2366434954, 1072718855,\n",
       "          970214289, 2255753665,  282585274, 2161567200, 3169029704,\n",
       "         1330643622, 1120243214, 3831242530,  574039227, 2533754661,\n",
       "          284641241,  820543188, 1794285273, 2410018127,  896113625,\n",
       "         1003759111,  590421405, 1916112872, 2670491246, 2299459740,\n",
       "         2216388106, 2192950301,  193930769, 1206350178,  625632043,\n",
       "         2270147095, 4095516750, 3533263954, 1895149289, 3537114762,\n",
       "          571244187, 2656190893, 1773039077, 2380372374, 1082448750,\n",
       "         3281693425, 1317454533, 1147499999,  559313085, 1006867898,\n",
       "          628088916,  200383766, 4073683321, 1398002791, 4024444352,\n",
       "         2130692256, 1027249922, 2187710336, 1444612579, 2103401174,\n",
       "         1893086380, 4269439536, 1602593161, 3596327712, 1427360033,\n",
       "         3417903543,  769777311,  298181691,   81889891, 4037149805,\n",
       "         1450706632, 3277854967, 3210063989, 2051554954,  611782347,\n",
       "         2835930154, 1172396952, 3437368079, 1865482166, 3684415205,\n",
       "         1988793540, 4171261233, 1754841517, 1523081639, 3032558998,\n",
       "         1171104752, 1448640366, 1182715712, 3894019090, 4234218409,\n",
       "          171272729, 1779295848, 1165835859, 3814254834,  934814466,\n",
       "          785465939, 2268896973, 4231271756, 1516113825, 1098947644,\n",
       "         2948416045, 4014858620, 3715040609,  701957439, 3589980775,\n",
       "         1613031986, 1795447384, 1414474250, 4231846896, 3552118784,\n",
       "         3638547070, 1893810516, 3731079889, 4086617975, 3490808352,\n",
       "         2705063195, 2954369884, 3434032226, 3349808556,    4688339,\n",
       "         4181044680, 2196220290,  907133621,  206244418, 1349406549,\n",
       "         3856569412, 1020099439, 1080165060, 3091407324,  279854459,\n",
       "         1797225398, 1599857559, 4097766491, 2789848035, 4197769474,\n",
       "         1121174443, 4070215750, 2611501892, 1595371692,  528036610,\n",
       "         1437795934, 4143477852, 1013402333, 1878614280, 3119115145,\n",
       "         2211550636, 1983574340, 3279901721, 2038323979, 1803859045,\n",
       "          198778073, 2794626412, 3526971016, 2828378112, 2426971348,\n",
       "         1548210689, 3610277041, 2041977647,  363190945, 2607568227,\n",
       "          479966740, 3421863623, 4066317639, 2834107545, 4050566406,\n",
       "         3893639830, 1344432861, 2026077265, 2162340878, 1735270726,\n",
       "          909148886,  963329927,  670797933, 4152198991, 2182458034,\n",
       "          752422948, 3566284168, 2459897617, 1605990255, 2990504906,\n",
       "         2058564510, 1677140097, 2816486825, 2596441852, 2761015620,\n",
       "         2722275079, 3902373018, 1703227182, 2352016054, 2642590747,\n",
       "          610021849, 2170241996, 3003643463,  848970788, 2833050377,\n",
       "         1792222121, 3015678843, 3176286518,    4336450,  254661590,\n",
       "           77647768, 4098738246, 1208847623, 1085481234,  350861373,\n",
       "         4139393584, 3791988731, 3267250302,  918202022, 2694917677,\n",
       "         2962698605,  836449281, 2269102673, 4088634753,  785623427,\n",
       "         4277398751, 3097558708, 2854150523, 3361721642,  473193132,\n",
       "         4017127500,  526895179, 3461317507, 2188298582, 2261978843,\n",
       "         3521784200, 1003450082,  770172098,  542092760, 3074438039,\n",
       "          926046439,  181727564, 2066020066, 3811384977], dtype=uint32), 445, 0, 0.0))"
      ]
     },
     "execution_count": 25,
     "metadata": {},
     "output_type": "execute_result"
    }
   ],
   "source": [
    "import emcee\n",
    "\n",
    "ndim, nwalkers = 3, 6\n",
    "initial = [0.0775, 0.1, 124.51] # using the parameter values from the last problem\n",
    "pos = [initial + 1e-4*np.random.randn(ndim) for i in range(nwalkers)]\n",
    "\n",
    "sampler = emcee.EnsembleSampler(nwalkers, ndim, lnprob, args=(time, flux, flux_err))\n",
    "sampler.run_mcmc(pos, 500)"
   ]
  },
  {
   "cell_type": "code",
   "execution_count": 28,
   "metadata": {},
   "outputs": [
    {
     "name": "stdout",
     "output_type": "stream",
     "text": [
      "Best fit (p, tau, t0):  [  0.49909861   0.9795496  124.00000012]\n",
      "1-sigma uncertainty (p, tau, t0):  [8.27921182e-04 7.37070465e-03 3.28695284e-07]\n"
     ]
    }
   ],
   "source": [
    "samples = sampler.chain[:, 400:, :].reshape((-1, ndim)) # uses the last 100\n",
    "#print samples\n",
    "best = np.mean(samples, axis=0)\n",
    "print \"Best fit (p, tau, t0): \", best\n",
    "print \"1-sigma uncertainty (p, tau, t0): \", np.std(samples, axis=0)"
   ]
  },
  {
   "cell_type": "code",
   "execution_count": 32,
   "metadata": {},
   "outputs": [
    {
     "data": {
      "image/png": "[encoded data removed]",
      "text/plain": [
       "<matplotlib.figure.Figure at 0x10f51af90>"
      ]
     },
     "metadata": {},
     "output_type": "display_data"
    }
   ],
   "source": [
    "F = np.array([F_model(t, best[0], best[1], best[2]) for t in time])\n",
    "\n",
    "plt.errorbar(time, flux, yerr=flux_err, label=\"data\")\n",
    "plt.errorbar(time, F, label=\"model\")\n",
    "plt.xlabel(\"time\")\n",
    "plt.ylabel(\"normalized flux\")\n",
    "plt.legend()\n",
    "plt.show()"
   ]
  },
  {
   "cell_type": "markdown",
   "metadata": {},
   "source": [
    "I encountered trouble getting my MCMC to return correct model parameters."
   ]
  },
  {
   "cell_type": "code",
   "execution_count": null,
   "metadata": {},
   "outputs": [],
   "source": []
  }
 ],
 "metadata": {
  "kernelspec": {
   "display_name": "Python 2",
   "language": "python",
   "name": "python2"
  },
  "language_info": {
   "codemirror_mode": {
    "name": "ipython",
    "version": 2
   },
   "file_extension": ".py",
   "mimetype": "text/x-python",
   "name": "python",
   "nbconvert_exporter": "python",
   "pygments_lexer": "ipython2",
   "version": "2.7.14"
  }
 },
 "nbformat": 4,
 "nbformat_minor": 2
}
